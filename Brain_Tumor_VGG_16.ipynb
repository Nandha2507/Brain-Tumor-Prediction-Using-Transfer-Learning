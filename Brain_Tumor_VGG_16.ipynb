{
  "nbformat": 4,
  "nbformat_minor": 0,
  "metadata": {
    "colab": {
      "name": "Brain Tumor VGG 16.ipynb",
      "provenance": [],
      "collapsed_sections": []
    },
    "kernelspec": {
      "name": "python3",
      "display_name": "Python 3"
    },
    "accelerator": "GPU"
  },
  "cells": [
    {
      "cell_type": "code",
      "metadata": {
        "id": "ITppdnbmCNUi",
        "colab": {
          "base_uri": "https://localhost:8080/"
        },
        "outputId": "a1900cf0-f14e-483c-999f-4cfd7f2d33e7"
      },
      "source": [
        "### Check which GPU is in use\n",
        "\n",
        "!nvidia-smi"
      ],
      "execution_count": 1,
      "outputs": [
        {
          "output_type": "stream",
          "text": [
            "Thu Dec  3 11:08:54 2020       \n",
            "+-----------------------------------------------------------------------------+\n",
            "| NVIDIA-SMI 455.38       Driver Version: 418.67       CUDA Version: 10.1     |\n",
            "|-------------------------------+----------------------+----------------------+\n",
            "| GPU  Name        Persistence-M| Bus-Id        Disp.A | Volatile Uncorr. ECC |\n",
            "| Fan  Temp  Perf  Pwr:Usage/Cap|         Memory-Usage | GPU-Util  Compute M. |\n",
            "|                               |                      |               MIG M. |\n",
            "|===============================+======================+======================|\n",
            "|   0  Tesla T4            Off  | 00000000:00:04.0 Off |                    0 |\n",
            "| N/A   53C    P8    11W /  70W |      0MiB / 15079MiB |      0%      Default |\n",
            "|                               |                      |                 ERR! |\n",
            "+-------------------------------+----------------------+----------------------+\n",
            "                                                                               \n",
            "+-----------------------------------------------------------------------------+\n",
            "| Processes:                                                                  |\n",
            "|  GPU   GI   CI        PID   Type   Process name                  GPU Memory |\n",
            "|        ID   ID                                                   Usage      |\n",
            "|=============================================================================|\n",
            "|  No running processes found                                                 |\n",
            "+-----------------------------------------------------------------------------+\n"
          ],
          "name": "stdout"
        }
      ]
    },
    {
      "cell_type": "code",
      "metadata": {
        "id": "w53npWy7CZiv",
        "colab": {
          "base_uri": "https://localhost:8080/"
        },
        "outputId": "b84287e5-6e02-4430-9d9b-6ca3e319e808"
      },
      "source": [
        "!pip install tensorflow-gpu"
      ],
      "execution_count": 2,
      "outputs": [
        {
          "output_type": "stream",
          "text": [
            "Collecting tensorflow-gpu\n",
            "\u001b[?25l  Downloading https://files.pythonhosted.org/packages/18/99/ac32fd13d56e40d4c3e6150030132519997c0bb1f06f448d970e81b177e5/tensorflow_gpu-2.3.1-cp36-cp36m-manylinux2010_x86_64.whl (320.4MB)\n",
            "\u001b[K     |████████████████████████████████| 320.4MB 51kB/s \n",
            "\u001b[?25hRequirement already satisfied: termcolor>=1.1.0 in /usr/local/lib/python3.6/dist-packages (from tensorflow-gpu) (1.1.0)\n",
            "Requirement already satisfied: wrapt>=1.11.1 in /usr/local/lib/python3.6/dist-packages (from tensorflow-gpu) (1.12.1)\n",
            "Requirement already satisfied: grpcio>=1.8.6 in /usr/local/lib/python3.6/dist-packages (from tensorflow-gpu) (1.33.2)\n",
            "Requirement already satisfied: astunparse==1.6.3 in /usr/local/lib/python3.6/dist-packages (from tensorflow-gpu) (1.6.3)\n",
            "Requirement already satisfied: wheel>=0.26 in /usr/local/lib/python3.6/dist-packages (from tensorflow-gpu) (0.35.1)\n",
            "Requirement already satisfied: keras-preprocessing<1.2,>=1.1.1 in /usr/local/lib/python3.6/dist-packages (from tensorflow-gpu) (1.1.2)\n",
            "Requirement already satisfied: tensorflow-estimator<2.4.0,>=2.3.0 in /usr/local/lib/python3.6/dist-packages (from tensorflow-gpu) (2.3.0)\n",
            "Requirement already satisfied: google-pasta>=0.1.8 in /usr/local/lib/python3.6/dist-packages (from tensorflow-gpu) (0.2.0)\n",
            "Requirement already satisfied: absl-py>=0.7.0 in /usr/local/lib/python3.6/dist-packages (from tensorflow-gpu) (0.10.0)\n",
            "Requirement already satisfied: tensorboard<3,>=2.3.0 in /usr/local/lib/python3.6/dist-packages (from tensorflow-gpu) (2.3.0)\n",
            "Requirement already satisfied: gast==0.3.3 in /usr/local/lib/python3.6/dist-packages (from tensorflow-gpu) (0.3.3)\n",
            "Requirement already satisfied: h5py<2.11.0,>=2.10.0 in /usr/local/lib/python3.6/dist-packages (from tensorflow-gpu) (2.10.0)\n",
            "Requirement already satisfied: six>=1.12.0 in /usr/local/lib/python3.6/dist-packages (from tensorflow-gpu) (1.15.0)\n",
            "Requirement already satisfied: opt-einsum>=2.3.2 in /usr/local/lib/python3.6/dist-packages (from tensorflow-gpu) (3.3.0)\n",
            "Requirement already satisfied: protobuf>=3.9.2 in /usr/local/lib/python3.6/dist-packages (from tensorflow-gpu) (3.12.4)\n",
            "Requirement already satisfied: numpy<1.19.0,>=1.16.0 in /usr/local/lib/python3.6/dist-packages (from tensorflow-gpu) (1.18.5)\n",
            "Requirement already satisfied: markdown>=2.6.8 in /usr/local/lib/python3.6/dist-packages (from tensorboard<3,>=2.3.0->tensorflow-gpu) (3.3.3)\n",
            "Requirement already satisfied: requests<3,>=2.21.0 in /usr/local/lib/python3.6/dist-packages (from tensorboard<3,>=2.3.0->tensorflow-gpu) (2.23.0)\n",
            "Requirement already satisfied: tensorboard-plugin-wit>=1.6.0 in /usr/local/lib/python3.6/dist-packages (from tensorboard<3,>=2.3.0->tensorflow-gpu) (1.7.0)\n",
            "Requirement already satisfied: google-auth<2,>=1.6.3 in /usr/local/lib/python3.6/dist-packages (from tensorboard<3,>=2.3.0->tensorflow-gpu) (1.17.2)\n",
            "Requirement already satisfied: google-auth-oauthlib<0.5,>=0.4.1 in /usr/local/lib/python3.6/dist-packages (from tensorboard<3,>=2.3.0->tensorflow-gpu) (0.4.2)\n",
            "Requirement already satisfied: werkzeug>=0.11.15 in /usr/local/lib/python3.6/dist-packages (from tensorboard<3,>=2.3.0->tensorflow-gpu) (1.0.1)\n",
            "Requirement already satisfied: setuptools>=41.0.0 in /usr/local/lib/python3.6/dist-packages (from tensorboard<3,>=2.3.0->tensorflow-gpu) (50.3.2)\n",
            "Requirement already satisfied: importlib-metadata; python_version < \"3.8\" in /usr/local/lib/python3.6/dist-packages (from markdown>=2.6.8->tensorboard<3,>=2.3.0->tensorflow-gpu) (2.0.0)\n",
            "Requirement already satisfied: certifi>=2017.4.17 in /usr/local/lib/python3.6/dist-packages (from requests<3,>=2.21.0->tensorboard<3,>=2.3.0->tensorflow-gpu) (2020.11.8)\n",
            "Requirement already satisfied: urllib3!=1.25.0,!=1.25.1,<1.26,>=1.21.1 in /usr/local/lib/python3.6/dist-packages (from requests<3,>=2.21.0->tensorboard<3,>=2.3.0->tensorflow-gpu) (1.24.3)\n",
            "Requirement already satisfied: chardet<4,>=3.0.2 in /usr/local/lib/python3.6/dist-packages (from requests<3,>=2.21.0->tensorboard<3,>=2.3.0->tensorflow-gpu) (3.0.4)\n",
            "Requirement already satisfied: idna<3,>=2.5 in /usr/local/lib/python3.6/dist-packages (from requests<3,>=2.21.0->tensorboard<3,>=2.3.0->tensorflow-gpu) (2.10)\n",
            "Requirement already satisfied: pyasn1-modules>=0.2.1 in /usr/local/lib/python3.6/dist-packages (from google-auth<2,>=1.6.3->tensorboard<3,>=2.3.0->tensorflow-gpu) (0.2.8)\n",
            "Requirement already satisfied: cachetools<5.0,>=2.0.0 in /usr/local/lib/python3.6/dist-packages (from google-auth<2,>=1.6.3->tensorboard<3,>=2.3.0->tensorflow-gpu) (4.1.1)\n",
            "Requirement already satisfied: rsa<5,>=3.1.4; python_version >= \"3\" in /usr/local/lib/python3.6/dist-packages (from google-auth<2,>=1.6.3->tensorboard<3,>=2.3.0->tensorflow-gpu) (4.6)\n",
            "Requirement already satisfied: requests-oauthlib>=0.7.0 in /usr/local/lib/python3.6/dist-packages (from google-auth-oauthlib<0.5,>=0.4.1->tensorboard<3,>=2.3.0->tensorflow-gpu) (1.3.0)\n",
            "Requirement already satisfied: zipp>=0.5 in /usr/local/lib/python3.6/dist-packages (from importlib-metadata; python_version < \"3.8\"->markdown>=2.6.8->tensorboard<3,>=2.3.0->tensorflow-gpu) (3.4.0)\n",
            "Requirement already satisfied: pyasn1<0.5.0,>=0.4.6 in /usr/local/lib/python3.6/dist-packages (from pyasn1-modules>=0.2.1->google-auth<2,>=1.6.3->tensorboard<3,>=2.3.0->tensorflow-gpu) (0.4.8)\n",
            "Requirement already satisfied: oauthlib>=3.0.0 in /usr/local/lib/python3.6/dist-packages (from requests-oauthlib>=0.7.0->google-auth-oauthlib<0.5,>=0.4.1->tensorboard<3,>=2.3.0->tensorflow-gpu) (3.1.0)\n",
            "Installing collected packages: tensorflow-gpu\n",
            "Successfully installed tensorflow-gpu-2.3.1\n"
          ],
          "name": "stdout"
        }
      ]
    },
    {
      "cell_type": "code",
      "metadata": {
        "colab": {
          "base_uri": "https://localhost:8080/"
        },
        "id": "hcPY95ERSps5",
        "outputId": "9dc305cc-933a-450e-9ad2-d0493749a565"
      },
      "source": [
        "### Installing tensorflow and checking the version\n",
        "\n",
        "import tensorflow as tf\n",
        "print(tf.__version__)"
      ],
      "execution_count": 3,
      "outputs": [
        {
          "output_type": "stream",
          "text": [
            "2.3.1\n"
          ],
          "name": "stdout"
        }
      ]
    },
    {
      "cell_type": "code",
      "metadata": {
        "id": "jKuCNoyHTD2M"
      },
      "source": [
        "# Importing all necessaries libraries\n",
        "\n",
        "from tensorflow.keras.layers import Dense,Flatten,Input,Lambda\n",
        "from tensorflow.keras.models import Model\n",
        "from tensorflow.keras.applications.vgg16 import VGG16\n",
        "from tensorflow.keras.preprocessing import image\n",
        "from tensorflow.keras.preprocessing.image import load_img,ImageDataGenerator\n",
        "from tensorflow.keras.models import Sequential\n",
        "import pandas as pd\n",
        "import numpy as np\n",
        "from glob import glob"
      ],
      "execution_count": 4,
      "outputs": []
    },
    {
      "cell_type": "code",
      "metadata": {
        "id": "abbj-puRTKCH"
      },
      "source": [
        "### Resizing all images\n",
        "\n",
        "IMAGE_SIZE=[224,224]"
      ],
      "execution_count": 5,
      "outputs": []
    },
    {
      "cell_type": "code",
      "metadata": {
        "id": "pLldxr87TNWi"
      },
      "source": [
        "### Read the data from the drive\n",
        "\n",
        "train_path='/content/drive/MyDrive/Datasets/Brain Tumor/brain_tumor_dataset/Train'\n",
        "test_path='/content/drive/MyDrive/Datasets/Brain Tumor/brain_tumor_dataset/Test'"
      ],
      "execution_count": 6,
      "outputs": []
    },
    {
      "cell_type": "code",
      "metadata": {
        "colab": {
          "base_uri": "https://localhost:8080/"
        },
        "id": "JrVPyBv1Tn7g",
        "outputId": "8b2dbddc-8b5e-40ca-c018-edc66af5b666"
      },
      "source": [
        "vgg16=VGG16(input_shape=IMAGE_SIZE+[3],weights='imagenet',include_top=False)"
      ],
      "execution_count": 7,
      "outputs": [
        {
          "output_type": "stream",
          "text": [
            "Downloading data from https://storage.googleapis.com/tensorflow/keras-applications/vgg16/vgg16_weights_tf_dim_ordering_tf_kernels_notop.h5\n",
            "58892288/58889256 [==============================] - 1s 0us/step\n"
          ],
          "name": "stdout"
        }
      ]
    },
    {
      "cell_type": "code",
      "metadata": {
        "id": "gMR8D1Q8TqnN"
      },
      "source": [
        "for layer in vgg16.layers:\n",
        "  layer.trainable=False"
      ],
      "execution_count": 8,
      "outputs": []
    },
    {
      "cell_type": "code",
      "metadata": {
        "id": "FftJimCrT8_E"
      },
      "source": [
        "folders=glob('/content/drive/MyDrive/Datasets/Brain Tumor/brain_tumor_dataset/Train/*')"
      ],
      "execution_count": 9,
      "outputs": []
    },
    {
      "cell_type": "code",
      "metadata": {
        "colab": {
          "base_uri": "https://localhost:8080/"
        },
        "id": "XF134DmQUC_9",
        "outputId": "0c1508a6-747f-4aee-9230-bd0080927934"
      },
      "source": [
        "folders"
      ],
      "execution_count": 10,
      "outputs": [
        {
          "output_type": "execute_result",
          "data": {
            "text/plain": [
              "['/content/drive/MyDrive/Datasets/Brain Tumor/brain_tumor_dataset/Train/Yes',\n",
              " '/content/drive/MyDrive/Datasets/Brain Tumor/brain_tumor_dataset/Train/No']"
            ]
          },
          "metadata": {
            "tags": []
          },
          "execution_count": 10
        }
      ]
    },
    {
      "cell_type": "code",
      "metadata": {
        "id": "_i5-AUcDUEJo"
      },
      "source": [
        "x=Flatten()(vgg16.output)"
      ],
      "execution_count": 11,
      "outputs": []
    },
    {
      "cell_type": "code",
      "metadata": {
        "id": "6dZvqcYJUJPx"
      },
      "source": [
        "prediction=Dense(len(folders),activation='softmax')(x)"
      ],
      "execution_count": 12,
      "outputs": []
    },
    {
      "cell_type": "code",
      "metadata": {
        "id": "FuKxq7kwUZgK"
      },
      "source": [
        "model=Model(inputs=vgg16.input,outputs=prediction)"
      ],
      "execution_count": 13,
      "outputs": []
    },
    {
      "cell_type": "code",
      "metadata": {
        "colab": {
          "base_uri": "https://localhost:8080/"
        },
        "id": "C-mK5rnvUbNd",
        "outputId": "40cdf06b-5bb8-4529-a303-48be1f1cbc3d"
      },
      "source": [
        "model.summary()"
      ],
      "execution_count": 14,
      "outputs": [
        {
          "output_type": "stream",
          "text": [
            "Model: \"functional_1\"\n",
            "_________________________________________________________________\n",
            "Layer (type)                 Output Shape              Param #   \n",
            "=================================================================\n",
            "input_1 (InputLayer)         [(None, 224, 224, 3)]     0         \n",
            "_________________________________________________________________\n",
            "block1_conv1 (Conv2D)        (None, 224, 224, 64)      1792      \n",
            "_________________________________________________________________\n",
            "block1_conv2 (Conv2D)        (None, 224, 224, 64)      36928     \n",
            "_________________________________________________________________\n",
            "block1_pool (MaxPooling2D)   (None, 112, 112, 64)      0         \n",
            "_________________________________________________________________\n",
            "block2_conv1 (Conv2D)        (None, 112, 112, 128)     73856     \n",
            "_________________________________________________________________\n",
            "block2_conv2 (Conv2D)        (None, 112, 112, 128)     147584    \n",
            "_________________________________________________________________\n",
            "block2_pool (MaxPooling2D)   (None, 56, 56, 128)       0         \n",
            "_________________________________________________________________\n",
            "block3_conv1 (Conv2D)        (None, 56, 56, 256)       295168    \n",
            "_________________________________________________________________\n",
            "block3_conv2 (Conv2D)        (None, 56, 56, 256)       590080    \n",
            "_________________________________________________________________\n",
            "block3_conv3 (Conv2D)        (None, 56, 56, 256)       590080    \n",
            "_________________________________________________________________\n",
            "block3_pool (MaxPooling2D)   (None, 28, 28, 256)       0         \n",
            "_________________________________________________________________\n",
            "block4_conv1 (Conv2D)        (None, 28, 28, 512)       1180160   \n",
            "_________________________________________________________________\n",
            "block4_conv2 (Conv2D)        (None, 28, 28, 512)       2359808   \n",
            "_________________________________________________________________\n",
            "block4_conv3 (Conv2D)        (None, 28, 28, 512)       2359808   \n",
            "_________________________________________________________________\n",
            "block4_pool (MaxPooling2D)   (None, 14, 14, 512)       0         \n",
            "_________________________________________________________________\n",
            "block5_conv1 (Conv2D)        (None, 14, 14, 512)       2359808   \n",
            "_________________________________________________________________\n",
            "block5_conv2 (Conv2D)        (None, 14, 14, 512)       2359808   \n",
            "_________________________________________________________________\n",
            "block5_conv3 (Conv2D)        (None, 14, 14, 512)       2359808   \n",
            "_________________________________________________________________\n",
            "block5_pool (MaxPooling2D)   (None, 7, 7, 512)         0         \n",
            "_________________________________________________________________\n",
            "flatten (Flatten)            (None, 25088)             0         \n",
            "_________________________________________________________________\n",
            "dense (Dense)                (None, 2)                 50178     \n",
            "=================================================================\n",
            "Total params: 14,764,866\n",
            "Trainable params: 50,178\n",
            "Non-trainable params: 14,714,688\n",
            "_________________________________________________________________\n"
          ],
          "name": "stdout"
        }
      ]
    },
    {
      "cell_type": "code",
      "metadata": {
        "id": "v5xz4lDpUgKz"
      },
      "source": [
        "model.compile(optimizer='adam',loss='categorical_crossentropy',metrics=['accuracy'])"
      ],
      "execution_count": 15,
      "outputs": []
    },
    {
      "cell_type": "code",
      "metadata": {
        "id": "Sjxz8_whVTGT"
      },
      "source": [
        "train_datagen=ImageDataGenerator(rescale=1./255,\n",
        "                                  shear_range=0.2,\n",
        "                                  zoom_range=0.2,\n",
        "                                  horizontal_flip=True\n",
        "                                  )\n",
        "test_datagen=ImageDataGenerator(rescale=1./255)"
      ],
      "execution_count": 16,
      "outputs": []
    },
    {
      "cell_type": "code",
      "metadata": {
        "colab": {
          "base_uri": "https://localhost:8080/"
        },
        "id": "GGD8sg-dVVxx",
        "outputId": "bbb31c77-3aac-42cf-e23d-5929ee3db665"
      },
      "source": [
        "training_set=train_datagen.flow_from_directory('/content/drive/MyDrive/Datasets/Brain Tumor/brain_tumor_dataset/Train',\n",
        "                                               target_size=(224,224),\n",
        "                                               batch_size=16,\n",
        "                                               class_mode='categorical')"
      ],
      "execution_count": 17,
      "outputs": [
        {
          "output_type": "stream",
          "text": [
            "Found 300 images belonging to 2 classes.\n"
          ],
          "name": "stdout"
        }
      ]
    },
    {
      "cell_type": "code",
      "metadata": {
        "colab": {
          "base_uri": "https://localhost:8080/"
        },
        "id": "FN5ynnm8VezP",
        "outputId": "d4cd0ef3-8433-4852-8a39-f0c6a9b0ab47"
      },
      "source": [
        "test_set=test_datagen.flow_from_directory('/content/drive/MyDrive/Datasets/Brain Tumor/brain_tumor_dataset/Test',\n",
        "                                               target_size=(224,224),\n",
        "                                               batch_size=16,\n",
        "                                               class_mode='categorical')"
      ],
      "execution_count": 18,
      "outputs": [
        {
          "output_type": "stream",
          "text": [
            "Found 100 images belonging to 2 classes.\n"
          ],
          "name": "stdout"
        }
      ]
    },
    {
      "cell_type": "code",
      "metadata": {
        "colab": {
          "base_uri": "https://localhost:8080/"
        },
        "id": "oMMnsIkoVnUu",
        "outputId": "c26fc523-cbaa-44b4-c30d-ddf5f5cdee04"
      },
      "source": [
        "r=model.fit_generator(\n",
        "    training_set,\n",
        "    validation_data=test_set,\n",
        "    epochs=50,\n",
        "    steps_per_epoch=len(training_set),\n",
        "    validation_steps=len(test_set)\n",
        ")"
      ],
      "execution_count": 19,
      "outputs": [
        {
          "output_type": "stream",
          "text": [
            "WARNING:tensorflow:From <ipython-input-19-f49d08b81164>:6: Model.fit_generator (from tensorflow.python.keras.engine.training) is deprecated and will be removed in a future version.\n",
            "Instructions for updating:\n",
            "Please use Model.fit, which supports generators.\n",
            "Epoch 1/50\n",
            "19/19 [==============================] - 275s 14s/step - loss: 0.7104 - accuracy: 0.6967 - val_loss: 0.4256 - val_accuracy: 0.8300\n",
            "Epoch 2/50\n",
            "19/19 [==============================] - 5s 255ms/step - loss: 0.3261 - accuracy: 0.8400 - val_loss: 0.3142 - val_accuracy: 0.8800\n",
            "Epoch 3/50\n",
            "19/19 [==============================] - 5s 255ms/step - loss: 0.2344 - accuracy: 0.9033 - val_loss: 0.2927 - val_accuracy: 0.8700\n",
            "Epoch 4/50\n",
            "19/19 [==============================] - 5s 256ms/step - loss: 0.1817 - accuracy: 0.9367 - val_loss: 0.4466 - val_accuracy: 0.7900\n",
            "Epoch 5/50\n",
            "19/19 [==============================] - 5s 255ms/step - loss: 0.1597 - accuracy: 0.9267 - val_loss: 0.3000 - val_accuracy: 0.8600\n",
            "Epoch 6/50\n",
            "19/19 [==============================] - 5s 259ms/step - loss: 0.1256 - accuracy: 0.9600 - val_loss: 0.2501 - val_accuracy: 0.9100\n",
            "Epoch 7/50\n",
            "19/19 [==============================] - 5s 253ms/step - loss: 0.1017 - accuracy: 0.9700 - val_loss: 0.2712 - val_accuracy: 0.9000\n",
            "Epoch 8/50\n",
            "19/19 [==============================] - 5s 253ms/step - loss: 0.1315 - accuracy: 0.9467 - val_loss: 0.3001 - val_accuracy: 0.9000\n",
            "Epoch 9/50\n",
            "19/19 [==============================] - 5s 254ms/step - loss: 0.0897 - accuracy: 0.9733 - val_loss: 0.3308 - val_accuracy: 0.8800\n",
            "Epoch 10/50\n",
            "19/19 [==============================] - 5s 255ms/step - loss: 0.0691 - accuracy: 0.9900 - val_loss: 0.3111 - val_accuracy: 0.8900\n",
            "Epoch 11/50\n",
            "19/19 [==============================] - 5s 256ms/step - loss: 0.0684 - accuracy: 0.9800 - val_loss: 0.2933 - val_accuracy: 0.8800\n",
            "Epoch 12/50\n",
            "19/19 [==============================] - 5s 256ms/step - loss: 0.0992 - accuracy: 0.9633 - val_loss: 0.2732 - val_accuracy: 0.8800\n",
            "Epoch 13/50\n",
            "19/19 [==============================] - 5s 256ms/step - loss: 0.0723 - accuracy: 0.9733 - val_loss: 0.3204 - val_accuracy: 0.8800\n",
            "Epoch 14/50\n",
            "19/19 [==============================] - 5s 254ms/step - loss: 0.0474 - accuracy: 0.9900 - val_loss: 0.3064 - val_accuracy: 0.9000\n",
            "Epoch 15/50\n",
            "19/19 [==============================] - 5s 257ms/step - loss: 0.0364 - accuracy: 0.9900 - val_loss: 0.3054 - val_accuracy: 0.9000\n",
            "Epoch 16/50\n",
            "19/19 [==============================] - 5s 253ms/step - loss: 0.0273 - accuracy: 1.0000 - val_loss: 0.4165 - val_accuracy: 0.8500\n",
            "Epoch 17/50\n",
            "19/19 [==============================] - 5s 254ms/step - loss: 0.0331 - accuracy: 0.9933 - val_loss: 0.3744 - val_accuracy: 0.8600\n",
            "Epoch 18/50\n",
            "19/19 [==============================] - 5s 262ms/step - loss: 0.0252 - accuracy: 1.0000 - val_loss: 0.3059 - val_accuracy: 0.9100\n",
            "Epoch 19/50\n",
            "19/19 [==============================] - 5s 257ms/step - loss: 0.0208 - accuracy: 1.0000 - val_loss: 0.3597 - val_accuracy: 0.8700\n",
            "Epoch 20/50\n",
            "19/19 [==============================] - 5s 255ms/step - loss: 0.0242 - accuracy: 1.0000 - val_loss: 0.4483 - val_accuracy: 0.8300\n",
            "Epoch 21/50\n",
            "19/19 [==============================] - 5s 254ms/step - loss: 0.0205 - accuracy: 1.0000 - val_loss: 0.3433 - val_accuracy: 0.8900\n",
            "Epoch 22/50\n",
            "19/19 [==============================] - 5s 254ms/step - loss: 0.0249 - accuracy: 0.9933 - val_loss: 0.4481 - val_accuracy: 0.8300\n",
            "Epoch 23/50\n",
            "19/19 [==============================] - 5s 256ms/step - loss: 0.0252 - accuracy: 0.9967 - val_loss: 0.3192 - val_accuracy: 0.9000\n",
            "Epoch 24/50\n",
            "19/19 [==============================] - 5s 254ms/step - loss: 0.0216 - accuracy: 0.9967 - val_loss: 0.2956 - val_accuracy: 0.9100\n",
            "Epoch 25/50\n",
            "19/19 [==============================] - 5s 252ms/step - loss: 0.0160 - accuracy: 1.0000 - val_loss: 0.3677 - val_accuracy: 0.8700\n",
            "Epoch 26/50\n",
            "19/19 [==============================] - 5s 252ms/step - loss: 0.0177 - accuracy: 1.0000 - val_loss: 0.3663 - val_accuracy: 0.8800\n",
            "Epoch 27/50\n",
            "19/19 [==============================] - 5s 252ms/step - loss: 0.0144 - accuracy: 1.0000 - val_loss: 0.3180 - val_accuracy: 0.9100\n",
            "Epoch 28/50\n",
            "19/19 [==============================] - 5s 250ms/step - loss: 0.0161 - accuracy: 1.0000 - val_loss: 0.3503 - val_accuracy: 0.8900\n",
            "Epoch 29/50\n",
            "19/19 [==============================] - 5s 253ms/step - loss: 0.0133 - accuracy: 1.0000 - val_loss: 0.3784 - val_accuracy: 0.8800\n",
            "Epoch 30/50\n",
            "19/19 [==============================] - 5s 254ms/step - loss: 0.0163 - accuracy: 1.0000 - val_loss: 0.4152 - val_accuracy: 0.8800\n",
            "Epoch 31/50\n",
            "19/19 [==============================] - 5s 254ms/step - loss: 0.0120 - accuracy: 1.0000 - val_loss: 0.4729 - val_accuracy: 0.8600\n",
            "Epoch 32/50\n",
            "19/19 [==============================] - 5s 251ms/step - loss: 0.0111 - accuracy: 1.0000 - val_loss: 0.4405 - val_accuracy: 0.8700\n",
            "Epoch 33/50\n",
            "19/19 [==============================] - 5s 255ms/step - loss: 0.0125 - accuracy: 1.0000 - val_loss: 0.4066 - val_accuracy: 0.8800\n",
            "Epoch 34/50\n",
            "19/19 [==============================] - 5s 255ms/step - loss: 0.0122 - accuracy: 1.0000 - val_loss: 0.4584 - val_accuracy: 0.8400\n",
            "Epoch 35/50\n",
            "19/19 [==============================] - 5s 256ms/step - loss: 0.0117 - accuracy: 1.0000 - val_loss: 0.4255 - val_accuracy: 0.8700\n",
            "Epoch 36/50\n",
            "19/19 [==============================] - 5s 254ms/step - loss: 0.0096 - accuracy: 1.0000 - val_loss: 0.4394 - val_accuracy: 0.8700\n",
            "Epoch 37/50\n",
            "19/19 [==============================] - 5s 254ms/step - loss: 0.0086 - accuracy: 1.0000 - val_loss: 0.3968 - val_accuracy: 0.8900\n",
            "Epoch 38/50\n",
            "19/19 [==============================] - 5s 252ms/step - loss: 0.0165 - accuracy: 0.9933 - val_loss: 0.3768 - val_accuracy: 0.8900\n",
            "Epoch 39/50\n",
            "19/19 [==============================] - 5s 257ms/step - loss: 0.0162 - accuracy: 1.0000 - val_loss: 0.4668 - val_accuracy: 0.8500\n",
            "Epoch 40/50\n",
            "19/19 [==============================] - 5s 252ms/step - loss: 0.0126 - accuracy: 1.0000 - val_loss: 0.6306 - val_accuracy: 0.8100\n",
            "Epoch 41/50\n",
            "19/19 [==============================] - 5s 252ms/step - loss: 0.0119 - accuracy: 1.0000 - val_loss: 0.4725 - val_accuracy: 0.8600\n",
            "Epoch 42/50\n",
            "19/19 [==============================] - 5s 253ms/step - loss: 0.0105 - accuracy: 1.0000 - val_loss: 0.4133 - val_accuracy: 0.8900\n",
            "Epoch 43/50\n",
            "19/19 [==============================] - 5s 252ms/step - loss: 0.0072 - accuracy: 1.0000 - val_loss: 0.4887 - val_accuracy: 0.8600\n",
            "Epoch 44/50\n",
            "19/19 [==============================] - 5s 252ms/step - loss: 0.0084 - accuracy: 1.0000 - val_loss: 0.4362 - val_accuracy: 0.8800\n",
            "Epoch 45/50\n",
            "19/19 [==============================] - 5s 256ms/step - loss: 0.0076 - accuracy: 1.0000 - val_loss: 0.4899 - val_accuracy: 0.8700\n",
            "Epoch 46/50\n",
            "19/19 [==============================] - 5s 252ms/step - loss: 0.0147 - accuracy: 0.9967 - val_loss: 0.3697 - val_accuracy: 0.9100\n",
            "Epoch 47/50\n",
            "19/19 [==============================] - 5s 253ms/step - loss: 0.0093 - accuracy: 1.0000 - val_loss: 0.3879 - val_accuracy: 0.9000\n",
            "Epoch 48/50\n",
            "19/19 [==============================] - 5s 251ms/step - loss: 0.0063 - accuracy: 1.0000 - val_loss: 0.4559 - val_accuracy: 0.8800\n",
            "Epoch 49/50\n",
            "19/19 [==============================] - 5s 252ms/step - loss: 0.0066 - accuracy: 1.0000 - val_loss: 0.4909 - val_accuracy: 0.8800\n",
            "Epoch 50/50\n",
            "19/19 [==============================] - 5s 253ms/step - loss: 0.0059 - accuracy: 1.0000 - val_loss: 0.4080 - val_accuracy: 0.9000\n"
          ],
          "name": "stdout"
        }
      ]
    },
    {
      "cell_type": "code",
      "metadata": {
        "id": "8D8-XpK5V48X"
      },
      "source": [
        "import matplotlib.pyplot as plt"
      ],
      "execution_count": 20,
      "outputs": []
    },
    {
      "cell_type": "code",
      "metadata": {
        "colab": {
          "base_uri": "https://localhost:8080/",
          "height": 530
        },
        "id": "aVm2B74IYNnG",
        "outputId": "dc4c50e9-f3da-4678-f2f5-c7ef156f488d"
      },
      "source": [
        "# plot the loss\n",
        "plt.plot(r.history['loss'], label='train loss')\n",
        "plt.plot(r.history['val_loss'], label='val loss')\n",
        "plt.legend()\n",
        "plt.show()\n",
        "plt.savefig('LossVal_loss')\n",
        "\n",
        "# plot the accuracy\n",
        "plt.plot(r.history['accuracy'], label='train acc')\n",
        "plt.plot(r.history['val_accuracy'], label='val acc')\n",
        "plt.legend()\n",
        "plt.show()\n",
        "plt.savefig('AccVal_acc')"
      ],
      "execution_count": 21,
      "outputs": [
        {
          "output_type": "display_data",
          "data": {
            "image/png": "[encoded data removed]",
            "text/plain": [
              "<Figure size 432x288 with 1 Axes>"
            ]
          },
          "metadata": {
            "tags": [],
            "needs_background": "light"
          }
        },
        {
          "output_type": "display_data",
          "data": {
            "image/png": "[encoded data removed]",
            "text/plain": [
              "<Figure size 432x288 with 1 Axes>"
            ]
          },
          "metadata": {
            "tags": [],
            "needs_background": "light"
          }
        },
        {
          "output_type": "display_data",
          "data": {
            "text/plain": [
              "<Figure size 432x288 with 0 Axes>"
            ]
          },
          "metadata": {
            "tags": []
          }
        }
      ]
    },
    {
      "cell_type": "code",
      "metadata": {
        "id": "22tj2uOzYPaq"
      },
      "source": [
        "### Predictions\n",
        "import numpy as np\n",
        "from keras.preprocessing import image"
      ],
      "execution_count": 22,
      "outputs": []
    },
    {
      "cell_type": "code",
      "metadata": {
        "colab": {
          "base_uri": "https://localhost:8080/"
        },
        "id": "NXU1D0KVY70H",
        "outputId": "2ba486b1-4acf-4de7-9aab-50623f914754"
      },
      "source": [
        "test_image = image.load_img('/content/drive/MyDrive/Datasets/Brain Tumor/brain_tumor_dataset/Test/Yes/Y15.jpg', target_size = (224, 224))\n",
        "test_image = image.img_to_array(test_image)\n",
        "test_image = np.expand_dims(test_image, axis = 0)\n",
        "result = model.predict(test_image)\n",
        "\n",
        "if result[0][0] == 1:\n",
        "  print(\"Prediction: The person dont have brain Tumor.\")\n",
        "else:\n",
        "  print(\"Prediction: The person have brain Tumor.\")"
      ],
      "execution_count": 27,
      "outputs": [
        {
          "output_type": "stream",
          "text": [
            "Prediction: The person have brain Tumor.\n"
          ],
          "name": "stdout"
        }
      ]
    },
    {
      "cell_type": "code",
      "metadata": {
        "colab": {
          "base_uri": "https://localhost:8080/"
        },
        "id": "HDdkrRmfZxNI",
        "outputId": "392a6794-89da-4198-b3cf-7ffd02debc26"
      },
      "source": [
        "test_image = image.load_img('/content/drive/MyDrive/Datasets/Brain Tumor/brain_tumor_dataset/Test/No/No__0_6356.jpeg', target_size = (224, 224))\n",
        "test_image = image.img_to_array(test_image)\n",
        "test_image = np.expand_dims(test_image, axis = 0)\n",
        "result = model.predict(test_image)\n",
        "\n",
        "if result[0][0] == 1:\n",
        "  print(\"Prediction: The person dont have brain Tumor.\")\n",
        "else:\n",
        "  print(\"Prediction: The person have brain Tumor.\")"
      ],
      "execution_count": 28,
      "outputs": [
        {
          "output_type": "stream",
          "text": [
            "Prediction: The person dont have brain Tumor.\n"
          ],
          "name": "stdout"
        }
      ]
    },
    {
      "cell_type": "code",
      "metadata": {
        "id": "2kbv0Apgad6v"
      },
      "source": [
        ""
      ],
      "execution_count": null,
      "outputs": []
    }
  ]
}